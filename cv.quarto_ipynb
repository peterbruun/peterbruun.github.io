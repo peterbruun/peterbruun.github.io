{
  "cells": [
    {
      "cell_type": "raw",
      "metadata": {},
      "source": [
        "---\n",
        "title: \"Curriculum Vitae\"\n",
        "---\n",
        "\n",
        "---"
      ],
      "id": "bc6c174c"
    },
    {
      "cell_type": "markdown",
      "metadata": {},
      "source": [
        "layout: page\n",
        "title: Curriculum vitae\n",
        "excerpt: My current CV\n",
        "comments: false\n",
        "execute:\n",
        "  freeze: true  # never re-render during project render\n",
        "engine: knitr \n",
        "cv:\n",
        "  pdf: \"CV_Marvin_Schmitt.pdf\"\n",
        "---\n",
        "\n",
        "```{css echo=FALSE}\n",
        ".embed-container {\n",
        "    position: relative;\n",
        "    padding-bottom: 129%;\n",
        "    height: 0;\n",
        "    overflow: hidden;\n",
        "    max-width: 100%;\n",
        "}\n",
        ".embed-container iframe,\n",
        ".embed-container object,\n",
        ".embed-container embed {\n",
        "    position: absolute;\n",
        "    top: 0;\n",
        "    left: 0;\n",
        "    width: 100%;\n",
        "    height: 100%;\n",
        "}\n",
        "```\n",
        "\n",
        "```{=html}\n",
        "<p class=\"text-center\">\n",
        "  <a class=\"btn btn-primary btn-lg cv-download\" href=\"`r rmarkdown::metadata$cv$pdf`\" target=\"_blank\">\n",
        "    <i class=\"fa-solid fa-file-arrow-down\"></i>&ensp;Download current CV\n",
        "  </a>\n",
        "</p>\n",
        "<div class=\"embed-container\">\n",
        "  <iframe src=\"`r rmarkdown::metadata$cv$pdf`#toolbar=0\" style=\"border: 0.5px\"></iframe>\n",
        "</div>\n",
        "```"
      ],
      "id": "cb2bace5"
    }
  ],
  "metadata": {
    "kernelspec": {
      "display_name": "Python 3",
      "language": "python",
      "name": "python3"
    }
  },
  "nbformat": 4,
  "nbformat_minor": 5
}